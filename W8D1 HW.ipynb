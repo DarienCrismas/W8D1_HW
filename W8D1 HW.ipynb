{
 "cells": [
  {
   "cell_type": "markdown",
   "id": "5e915df6",
   "metadata": {},
   "source": [
    "#### Question #1"
   ]
  },
  {
   "cell_type": "markdown",
   "id": "ad8baedb",
   "metadata": {},
   "source": [
    "Create a type to represent the following instances of `CTStudent` Also declare three 3 students below as type `CTStudent` and set their values\n",
    "\n",
    "```\n",
    "let student1 = {\n",
    "    id: 'GMK435&g62L00',\n",
    "    name: 'John Smith',\n",
    "    age: 24,\n",
    "    isTired: true,\n",
    "    projectsCompleted:[\"HTML Portfolio\", \"Fakebook\", \"Pokemon API Project\", \"Weather Bug\"],\n",
    "    pet: 'dog'\n",
    "}\n",
    "\n",
    "let student2= {\n",
    "    id: '6KGS%54GmlY76',\n",
    "    name: 'Jenny Hawthorne',\n",
    "    age: 28,\n",
    "    isTired: false,\n",
    "    projectsCompleted:[\"HTML Portfolio\"],\n",
    "}\n",
    "\n",
    "let student3 = {\n",
    "    id: '6KGS%54GmlY76',\n",
    "    name: 'Neo',\n",
    "    age: 57,\n",
    "    isTired: true,\n",
    "    projectsCompleted:[\"Matrix\",\"Biological Interface Program\"],\n",
    "    pet:'cat'\n",
    "}\n",
    "```"
   ]
  },
  {
   "cell_type": "code",
   "execution_count": 8,
   "id": "cd394792",
   "metadata": {},
   "outputs": [],
   "source": [
    "//Answer\n",
    "type CTStudent = {\n",
    "    id: string,\n",
    "    name: string,\n",
    "    age: number,\n",
    "    isTired: boolean,\n",
    "    projectsCompleted: string[],\n",
    "    pet?: string\n",
    "};"
   ]
  },
  {
   "cell_type": "code",
   "execution_count": 13,
   "id": "15914dc7",
   "metadata": {},
   "outputs": [
    {
     "name": "stdout",
     "output_type": "stream",
     "text": [
      "{\n",
      "  id: 'GMK435&g62L00',\n",
      "  name: 'John Smith',\n",
      "  age: 24,\n",
      "  isTired: true,\n",
      "  projectsCompleted: [\n",
      "    'HTML Portfolio',\n",
      "    'Fakebook',\n",
      "    'Pokemon API Project',\n",
      "    'Weather Bug'\n",
      "  ],\n",
      "  pet: 'dog'\n",
      "}\n"
     ]
    }
   ],
   "source": [
    "let student1: CTStudent = {\n",
    "    id: 'GMK435&g62L00',\n",
    "    name: 'John Smith',\n",
    "    age: 24,\n",
    "    isTired: true,\n",
    "    projectsCompleted:[\"HTML Portfolio\", \"Fakebook\", \"Pokemon API Project\", \"Weather Bug\"],\n",
    "    pet: 'dog'\n",
    "};\n",
    "console.log(student1)"
   ]
  },
  {
   "cell_type": "code",
   "execution_count": 12,
   "id": "33237abb",
   "metadata": {},
   "outputs": [
    {
     "name": "stdout",
     "output_type": "stream",
     "text": [
      "{\n",
      "  id: '6KGS%54GmlY76',\n",
      "  name: 'Jenny Hawthorne',\n",
      "  age: 28,\n",
      "  isTired: false,\n",
      "  projectsCompleted: [ 'HTML Portfolio' ]\n",
      "}\n"
     ]
    }
   ],
   "source": [
    "let student2: CTStudent = {\n",
    "    id: '6KGS%54GmlY76',\n",
    "    name: 'Jenny Hawthorne',\n",
    "    age: 28,\n",
    "    isTired: false,\n",
    "    projectsCompleted:[\"HTML Portfolio\"],\n",
    "};\n",
    "console.log(student2)"
   ]
  },
  {
   "cell_type": "code",
   "execution_count": 14,
   "id": "8fe4de92",
   "metadata": {},
   "outputs": [
    {
     "name": "stdout",
     "output_type": "stream",
     "text": [
      "{\n",
      "  id: '6KGS%54GmlY76',\n",
      "  name: 'Neo',\n",
      "  age: 57,\n",
      "  isTired: true,\n",
      "  projectsCompleted: [ 'Matrix', 'Biological Interface Program' ],\n",
      "  pet: 'cat'\n",
      "}\n"
     ]
    }
   ],
   "source": [
    "let student3: CTStudent = {\n",
    "    id: '6KGS%54GmlY76',\n",
    "    name: 'Neo',\n",
    "    age: 57,\n",
    "    isTired: true,\n",
    "    projectsCompleted:[\"Matrix\",\"Biological Interface Program\"],\n",
    "    pet:'cat'\n",
    "};\n",
    "console.log(student3)"
   ]
  },
  {
   "cell_type": "markdown",
   "id": "b0e7af47",
   "metadata": {},
   "source": [
    "#### Question #2"
   ]
  },
  {
   "cell_type": "markdown",
   "id": "8f73f05e",
   "metadata": {},
   "source": [
    "Write a function that will accept a an object of type `Fruit`, the object of type Fruit could also be `null`.  If their is a Fruit print the color of the fruit, otherwise print `You ate my fruit already` be sure to annoate the return type of the function"
   ]
  },
  {
   "cell_type": "code",
   "execution_count": 34,
   "id": "ba17dc41",
   "metadata": {},
   "outputs": [],
   "source": [
    "//Given\n",
    "type Fruit={\n",
    "    color:string,\n",
    "    shape:string\n",
    "}\n",
    "\n",
    "let apple:Fruit={color:\"red\", shape:\"sphere\"}\n",
    "let eaten:Fruit=null\n",
    "\n",
    "//Answer\n",
    "const q2 = (take):string =>{\n",
    "    if (take){\n",
    "        return take.color\n",
    "    }else{\n",
    "        console.log(\"You ate my fruit already\")\n",
    "    }\n",
    "}"
   ]
  },
  {
   "cell_type": "code",
   "execution_count": 35,
   "id": "8de5cc83",
   "metadata": {},
   "outputs": [
    {
     "name": "stdout",
     "output_type": "stream",
     "text": [
      "red\n"
     ]
    }
   ],
   "source": [
    "q2(apple)"
   ]
  },
  {
   "cell_type": "code",
   "execution_count": 36,
   "id": "ccacb6ef",
   "metadata": {},
   "outputs": [
    {
     "name": "stdout",
     "output_type": "stream",
     "text": [
      "You ate my fruit already\n"
     ]
    }
   ],
   "source": [
    "q2(eaten)"
   ]
  },
  {
   "cell_type": "markdown",
   "id": "a03c6067",
   "metadata": {},
   "source": [
    "#### Question #3"
   ]
  },
  {
   "cell_type": "markdown",
   "id": "d5eb7680",
   "metadata": {},
   "source": [
    "Create a Union Type named `Ebook` for `Book` and `DigitalBook` and create one instance of the new union type"
   ]
  },
  {
   "cell_type": "code",
   "execution_count": 42,
   "id": "5741eb1b",
   "metadata": {},
   "outputs": [],
   "source": [
    "//Given \n",
    "type Book={\n",
    "    isbn:string,\n",
    "    title:string,\n",
    "    author:string\n",
    "};\n",
    "\n",
    "type DigitalBook={\n",
    "    fileType:string,\n",
    "};\n",
    "\n",
    "//Answer\n",
    "type Ebook = Book & DigitalBook;"
   ]
  },
  {
   "cell_type": "code",
   "execution_count": 44,
   "id": "624f4c54",
   "metadata": {},
   "outputs": [
    {
     "name": "stdout",
     "output_type": "stream",
     "text": [
      "{\n",
      "  isbn: '978-0-451-52906-0',\n",
      "  title: 'On the Origin of Species',\n",
      "  author: 'Charles Darwin',\n",
      "  fileType: 'pdf'\n",
      "}\n"
     ]
    }
   ],
   "source": [
    "let species:Ebook={\n",
    "    isbn:\"978-0-451-52906-0\",\n",
    "    title: \"On the Origin of Species\",\n",
    "    author: \"Charles Darwin\",\n",
    "    fileType: \"pdf\"\n",
    "};\n",
    "console.log(species);"
   ]
  },
  {
   "cell_type": "markdown",
   "id": "63f67aca",
   "metadata": {},
   "source": [
    "#### Question #4"
   ]
  },
  {
   "cell_type": "markdown",
   "id": "a0ac6fcf",
   "metadata": {},
   "source": [
    "Create a Type to represent a `ShopItem` that will fit the following rules. You may need to create additional structures\n",
    "\n",
    "- All ShopItems have an numeric id that can not be edited \n",
    "- All ShopItems have a price\n",
    "- All ShopItems have a description\n",
    "- Some ShopItems have a color\n",
    "- All ShopItems have a Category represented with an enum \n",
    "    - Possible Categories are `Shirts` `Shoes` `Pants` `Hats`\n",
    "- All ShopItems have a list of keywords used to help search for the ShopItem \n",
    "    - For Example A Ironman Tshirt may have keywords = [\"Marvel\", \"Endgame\", \"Ironman\",\"Character Tees\", \"Tony Stark\"]\n",
    "\n",
    "After Creating the `ShopItem` type create 3 items using this type"
   ]
  },
  {
   "cell_type": "code",
   "execution_count": 26,
   "id": "021bcb5c",
   "metadata": {},
   "outputs": [],
   "source": [
    "//  readonly id, price, desc, optional color, category enum (make outside), keyword: string[]\n",
    "\n",
    "enum cat {top=\"Shirt\", feet=\"Shoes\", bottom=\"Pants\", head=\"Hats\"};\n",
    "\n",
    "type ShopItem={\n",
    "    readonly id: number,\n",
    "    price: number,\n",
    "    description: string,\n",
    "    color?: string,\n",
    "    category: cat\n",
    "    keyword: string[]\n",
    "};"
   ]
  },
  {
   "cell_type": "code",
   "execution_count": 28,
   "id": "731e3473",
   "metadata": {},
   "outputs": [
    {
     "name": "stdout",
     "output_type": "stream",
     "text": [
      "{\n",
      "  id: 1,\n",
      "  price: 12.5,\n",
      "  description: 'filler text stuff',\n",
      "  category: 'Pants',\n",
      "  keyword: [ 'Summer', 'Not That Short' ]\n",
      "}\n"
     ]
    }
   ],
   "source": [
    "let short:ShopItem={\n",
    "    id:1,\n",
    "    price: 12.50,\n",
    "    description: \"filler text stuff\",\n",
    "    category: cat.bottom,\n",
    "    keyword: [\"Summer\", \"Not That Short\"]\n",
    "};\n",
    "console.log(short)"
   ]
  },
  {
   "cell_type": "code",
   "execution_count": 32,
   "id": "f93e7f3c",
   "metadata": {},
   "outputs": [
    {
     "name": "stdout",
     "output_type": "stream",
     "text": [
      "{\n",
      "  id: 2,\n",
      "  price: 20.76,\n",
      "  description: \"that keyword isn't a spoiler at this point right\",\n",
      "  category: 'Pants',\n",
      "  keyword: [ 'Periodic Table', 'Iron Man', 'RIP Tony ig' ]\n",
      "}\n"
     ]
    }
   ],
   "source": [
    "let feShirt:ShopItem={\n",
    "    id:2,\n",
    "    price: 20.76,\n",
    "    description: \"that keyword isn't a spoiler at this point right\",\n",
    "    category: cat.bottom,\n",
    "    keyword: [\"Periodic Table\", \"Iron Man\", \"RIP Tony ig\"]\n",
    "};\n",
    "console.log(feShirt)"
   ]
  },
  {
   "cell_type": "code",
   "execution_count": 31,
   "id": "c4592c9c",
   "metadata": {},
   "outputs": [
    {
     "name": "stdout",
     "output_type": "stream",
     "text": [
      "{\n",
      "  id: 3,\n",
      "  price: 30.5,\n",
      "  description: 'this much for a hat, really?',\n",
      "  category: 'Hats',\n",
      "  keyword: [ 'Periodic Table', 'Booster Gold' ]\n",
      "}\n"
     ]
    }
   ],
   "source": [
    "let boostAU:ShopItem={\n",
    "    id:3,\n",
    "    price: 40.99,\n",
    "    description: \"this much for a hat, really?\",\n",
    "    category: cat.head,\n",
    "    keyword: [\"Periodic Table\", \"Booster Gold\"]\n",
    "};\n",
    "console.log(boostAU)"
   ]
  }
 ],
 "metadata": {
  "kernelspec": {
   "display_name": "TypeScript",
   "language": "typescript",
   "name": "tslab"
  },
  "language_info": {
   "codemirror_mode": {
    "mode": "typescript",
    "name": "javascript",
    "typescript": true
   },
   "file_extension": ".ts",
   "mimetype": "text/typescript",
   "name": "typescript",
   "version": "3.7.2"
  }
 },
 "nbformat": 4,
 "nbformat_minor": 5
}
